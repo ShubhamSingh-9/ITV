{
 "cells": [
  {
   "cell_type": "markdown",
   "id": "5b463e3d",
   "metadata": {},
   "source": [
    "Table of Contents\n",
    "\n",
    "1. Section 1: Introduction\n",
    "   * Section 1.1 Outline\n",
    "1. Section 2: Task 1- Data Strategy\n",
    "   * Section 2.1: ITV want to know there customer viewing habit    \n",
    "2. Section 3: Task 2- Data Science\n",
    "   * Section 3.1: ITV wana know whome they should promote 'A Spy among the Friends'"
   ]
  },
  {
   "cell_type": "markdown",
   "id": "83c69ab1",
   "metadata": {},
   "source": [
    "# Section 1: Introduction\n",
    "\n",
    "This notebook presents and will analysis the Data set to get the viewing pattern of the ITV Customers from this input data will build Machine learningh models that help the marketing team to identify the correct customers who will watch the show \"A Spy among friends'."
   ]
  },
  {
   "cell_type": "markdown",
   "id": "019a978b",
   "metadata": {},
   "source": [
    "# Section 1.1: Outline\n",
    "**Section 2** Loads the data for Data Strategy and derives variables to know the customers viewing habits.\n",
    "\n",
    "**Section 3** Loads the data for Data Scienec task and build 03 Machine learning model and predict whome the marketing team should give suggestion to wtach \"A spy among friends\""
   ]
  },
  {
   "cell_type": "markdown",
   "id": "83e9f3b7",
   "metadata": {
    "id": "83e9f3b7"
   },
   "source": [
    "# Section 2: Task 1 - Data Strategy\n",
    "\n",
    "### Section 2.1 : ITV want to know what the customer base viewing habits look like?"
   ]
  },
  {
   "cell_type": "code",
   "execution_count": 1,
   "id": "7ff22dbc",
   "metadata": {
    "colab": {
     "base_uri": "https://localhost:8080/"
    },
    "id": "7ff22dbc",
    "outputId": "540c3b22-80b9-4f09-932d-a8f0ef11ec01"
   },
   "outputs": [
    {
     "name": "stdout",
     "output_type": "stream",
     "text": [
      "Requirement already satisfied: xlrd in c:\\users\\shubh\\appdata\\local\\programs\\python\\python310\\lib\\site-packages (2.0.1)\n",
      "Requirement already satisfied: openpyxl in c:\\users\\shubh\\appdata\\local\\programs\\python\\python310\\lib\\site-packages (3.1.0)\n",
      "Requirement already satisfied: et-xmlfile in c:\\users\\shubh\\appdata\\local\\programs\\python\\python310\\lib\\site-packages (from openpyxl) (1.1.0)\n",
      "Requirement already satisfied: matplotlib in c:\\users\\shubh\\appdata\\local\\programs\\python\\python310\\lib\\site-packages (3.6.3)\n",
      "Requirement already satisfied: fonttools>=4.22.0 in c:\\users\\shubh\\appdata\\local\\programs\\python\\python310\\lib\\site-packages (from matplotlib) (4.38.0)\n",
      "Requirement already satisfied: packaging>=20.0 in c:\\users\\shubh\\appdata\\local\\programs\\python\\python310\\lib\\site-packages (from matplotlib) (23.0)\n",
      "Requirement already satisfied: cycler>=0.10 in c:\\users\\shubh\\appdata\\local\\programs\\python\\python310\\lib\\site-packages (from matplotlib) (0.11.0)\n",
      "Requirement already satisfied: kiwisolver>=1.0.1 in c:\\users\\shubh\\appdata\\local\\programs\\python\\python310\\lib\\site-packages (from matplotlib) (1.4.4)\n",
      "Requirement already satisfied: pillow>=6.2.0 in c:\\users\\shubh\\appdata\\local\\programs\\python\\python310\\lib\\site-packages (from matplotlib) (9.4.0)\n",
      "Requirement already satisfied: contourpy>=1.0.1 in c:\\users\\shubh\\appdata\\local\\programs\\python\\python310\\lib\\site-packages (from matplotlib) (1.0.7)\n",
      "Requirement already satisfied: python-dateutil>=2.7 in c:\\users\\shubh\\appdata\\local\\programs\\python\\python310\\lib\\site-packages (from matplotlib) (2.8.2)\n",
      "Requirement already satisfied: pyparsing>=2.2.1 in c:\\users\\shubh\\appdata\\local\\programs\\python\\python310\\lib\\site-packages (from matplotlib) (3.0.9)\n",
      "Requirement already satisfied: numpy>=1.19 in c:\\users\\shubh\\appdata\\local\\programs\\python\\python310\\lib\\site-packages (from matplotlib) (1.23.3)\n",
      "Requirement already satisfied: six>=1.5 in c:\\users\\shubh\\appdata\\local\\programs\\python\\python310\\lib\\site-packages (from python-dateutil>=2.7->matplotlib) (1.16.0)\n",
      "Requirement already satisfied: seaborn in c:\\users\\shubh\\appdata\\local\\programs\\python\\python310\\lib\\site-packages (0.12.2)\n",
      "Requirement already satisfied: numpy!=1.24.0,>=1.17 in c:\\users\\shubh\\appdata\\local\\programs\\python\\python310\\lib\\site-packages (from seaborn) (1.23.3)\n",
      "Requirement already satisfied: pandas>=0.25 in c:\\users\\shubh\\appdata\\local\\programs\\python\\python310\\lib\\site-packages (from seaborn) (1.5.0)\n",
      "Requirement already satisfied: matplotlib!=3.6.1,>=3.1 in c:\\users\\shubh\\appdata\\local\\programs\\python\\python310\\lib\\site-packages (from seaborn) (3.6.3)\n",
      "Requirement already satisfied: kiwisolver>=1.0.1 in c:\\users\\shubh\\appdata\\local\\programs\\python\\python310\\lib\\site-packages (from matplotlib!=3.6.1,>=3.1->seaborn) (1.4.4)\n",
      "Requirement already satisfied: fonttools>=4.22.0 in c:\\users\\shubh\\appdata\\local\\programs\\python\\python310\\lib\\site-packages (from matplotlib!=3.6.1,>=3.1->seaborn) (4.38.0)\n",
      "Requirement already satisfied: python-dateutil>=2.7 in c:\\users\\shubh\\appdata\\local\\programs\\python\\python310\\lib\\site-packages (from matplotlib!=3.6.1,>=3.1->seaborn) (2.8.2)\n",
      "Requirement already satisfied: cycler>=0.10 in c:\\users\\shubh\\appdata\\local\\programs\\python\\python310\\lib\\site-packages (from matplotlib!=3.6.1,>=3.1->seaborn) (0.11.0)\n",
      "Requirement already satisfied: packaging>=20.0 in c:\\users\\shubh\\appdata\\local\\programs\\python\\python310\\lib\\site-packages (from matplotlib!=3.6.1,>=3.1->seaborn) (23.0)\n",
      "Requirement already satisfied: pillow>=6.2.0 in c:\\users\\shubh\\appdata\\local\\programs\\python\\python310\\lib\\site-packages (from matplotlib!=3.6.1,>=3.1->seaborn) (9.4.0)\n",
      "Requirement already satisfied: contourpy>=1.0.1 in c:\\users\\shubh\\appdata\\local\\programs\\python\\python310\\lib\\site-packages (from matplotlib!=3.6.1,>=3.1->seaborn) (1.0.7)\n",
      "Requirement already satisfied: pyparsing>=2.2.1 in c:\\users\\shubh\\appdata\\local\\programs\\python\\python310\\lib\\site-packages (from matplotlib!=3.6.1,>=3.1->seaborn) (3.0.9)\n",
      "Requirement already satisfied: pytz>=2020.1 in c:\\users\\shubh\\appdata\\local\\programs\\python\\python310\\lib\\site-packages (from pandas>=0.25->seaborn) (2022.2.1)\n",
      "Requirement already satisfied: six>=1.5 in c:\\users\\shubh\\appdata\\local\\programs\\python\\python310\\lib\\site-packages (from python-dateutil>=2.7->matplotlib!=3.6.1,>=3.1->seaborn) (1.16.0)\n"
     ]
    }
   ],
   "source": [
    "# importing library\n",
    "! pip install xlrd\n",
    "! pip install openpyxl\n",
    "! pip install matplotlib\n",
    "! pip install seaborn\n",
    "import pandas as pd\n",
    "import numpy as np\n",
    "import matplotlib.pyplot as plt\n",
    "import seaborn as sns\n",
    "import warnings\n",
    "warnings.filterwarnings('ignore')\n",
    "%matplotlib inline"
   ]
  },
  {
   "cell_type": "code",
   "execution_count": 2,
   "id": "a37016a7",
   "metadata": {
    "id": "a37016a7"
   },
   "outputs": [],
   "source": [
    "# imporating data as Dataframe\n",
    "data_strategy= pd.read_excel(\"DIG_Step_Up_Viewing_Data_Strategy.xlsx\")"
   ]
  },
  {
   "cell_type": "code",
   "execution_count": 3,
   "id": "507bc82b",
   "metadata": {
    "id": "507bc82b"
   },
   "outputs": [],
   "source": [
    "# Keeping required columns in the Dataframe\n",
    "data_strategy=data_strategy[['platform',\n",
    "                             'session_duration_seconds',\n",
    "                             'is_weekend','stream_type',\n",
    "                             'genre','sub_genres',\n",
    "                             'schedule_channel',\n",
    "                             'watched_flag']]"
   ]
  },
  {
   "cell_type": "code",
   "execution_count": 4,
   "id": "b60a9cac",
   "metadata": {
    "colab": {
     "base_uri": "https://localhost:8080/",
     "height": 206
    },
    "id": "b60a9cac",
    "outputId": "01734490-7042-4501-df52-b7b030a2c9b1"
   },
   "outputs": [
    {
     "data": {
      "text/html": [
       "<div>\n",
       "<style scoped>\n",
       "    .dataframe tbody tr th:only-of-type {\n",
       "        vertical-align: middle;\n",
       "    }\n",
       "\n",
       "    .dataframe tbody tr th {\n",
       "        vertical-align: top;\n",
       "    }\n",
       "\n",
       "    .dataframe thead th {\n",
       "        text-align: right;\n",
       "    }\n",
       "</style>\n",
       "<table border=\"1\" class=\"dataframe\">\n",
       "  <thead>\n",
       "    <tr style=\"text-align: right;\">\n",
       "      <th></th>\n",
       "      <th>platform</th>\n",
       "      <th>session_duration_seconds</th>\n",
       "      <th>is_weekend</th>\n",
       "      <th>stream_type</th>\n",
       "      <th>genre</th>\n",
       "      <th>sub_genres</th>\n",
       "      <th>schedule_channel</th>\n",
       "      <th>watched_flag</th>\n",
       "    </tr>\n",
       "  </thead>\n",
       "  <tbody>\n",
       "    <tr>\n",
       "      <th>0</th>\n",
       "      <td>TV</td>\n",
       "      <td>0</td>\n",
       "      <td>False</td>\n",
       "      <td>vod</td>\n",
       "      <td>DRAMA</td>\n",
       "      <td>LONG RUNNING DRAMA</td>\n",
       "      <td>ITV</td>\n",
       "      <td>1</td>\n",
       "    </tr>\n",
       "    <tr>\n",
       "      <th>1</th>\n",
       "      <td>TV</td>\n",
       "      <td>1389</td>\n",
       "      <td>False</td>\n",
       "      <td>vod</td>\n",
       "      <td>DRAMA</td>\n",
       "      <td>LONG RUNNING DRAMA</td>\n",
       "      <td>ITV</td>\n",
       "      <td>1</td>\n",
       "    </tr>\n",
       "    <tr>\n",
       "      <th>2</th>\n",
       "      <td>TV</td>\n",
       "      <td>4455</td>\n",
       "      <td>False</td>\n",
       "      <td>vod</td>\n",
       "      <td>DRAMA</td>\n",
       "      <td>CRIME AND THRILLER,PERIOD AND HISTORICAL</td>\n",
       "      <td>ITV4</td>\n",
       "      <td>1</td>\n",
       "    </tr>\n",
       "    <tr>\n",
       "      <th>3</th>\n",
       "      <td>TV</td>\n",
       "      <td>840</td>\n",
       "      <td>False</td>\n",
       "      <td>vod</td>\n",
       "      <td>DRAMA</td>\n",
       "      <td>LONG RUNNING DRAMA</td>\n",
       "      <td>ITV</td>\n",
       "      <td>1</td>\n",
       "    </tr>\n",
       "    <tr>\n",
       "      <th>4</th>\n",
       "      <td>TV</td>\n",
       "      <td>1916</td>\n",
       "      <td>False</td>\n",
       "      <td>vod</td>\n",
       "      <td>ENTERTAINMENT</td>\n",
       "      <td>QUIZ AND GAME SHOWS</td>\n",
       "      <td>ITV</td>\n",
       "      <td>1</td>\n",
       "    </tr>\n",
       "  </tbody>\n",
       "</table>\n",
       "</div>"
      ],
      "text/plain": [
       "  platform  session_duration_seconds  is_weekend stream_type          genre  \\\n",
       "0       TV                         0       False         vod          DRAMA   \n",
       "1       TV                      1389       False         vod          DRAMA   \n",
       "2       TV                      4455       False         vod          DRAMA   \n",
       "3       TV                       840       False         vod          DRAMA   \n",
       "4       TV                      1916       False         vod  ENTERTAINMENT   \n",
       "\n",
       "                                 sub_genres schedule_channel  watched_flag  \n",
       "0                        LONG RUNNING DRAMA              ITV             1  \n",
       "1                        LONG RUNNING DRAMA              ITV             1  \n",
       "2  CRIME AND THRILLER,PERIOD AND HISTORICAL             ITV4             1  \n",
       "3                        LONG RUNNING DRAMA              ITV             1  \n",
       "4                       QUIZ AND GAME SHOWS              ITV             1  "
      ]
     },
     "execution_count": 4,
     "metadata": {},
     "output_type": "execute_result"
    }
   ],
   "source": [
    "data_strategy.head()"
   ]
  },
  {
   "cell_type": "code",
   "execution_count": 5,
   "id": "35c58a2b",
   "metadata": {
    "colab": {
     "base_uri": "https://localhost:8080/"
    },
    "id": "35c58a2b",
    "outputId": "be58ec31-eb17-4b77-929b-8a90308a764b"
   },
   "outputs": [
    {
     "data": {
      "text/plain": [
       "<pandas.core.groupby.generic.DataFrameGroupBy object at 0x00000144821C94B0>"
      ]
     },
     "execution_count": 5,
     "metadata": {},
     "output_type": "execute_result"
    }
   ],
   "source": [
    "#Grouping data on features to know there viewing habit \n",
    "grouped=data_strategy.groupby(['genre','session_duration_seconds','platform'])\n",
    "grouped"
   ]
  },
  {
   "cell_type": "code",
   "execution_count": 6,
   "id": "77216714",
   "metadata": {
    "colab": {
     "base_uri": "https://localhost:8080/"
    },
    "id": "77216714",
    "outputId": "aeec10dd-23d0-408b-9c51-2f9ce7fccf9e"
   },
   "outputs": [
    {
     "data": {
      "text/plain": [
       "genre   session_duration_seconds  platform\n",
       "COMEDY  0                         Desktop     0.076923\n",
       "                                  Mobile      0.000000\n",
       "                                  TV          0.838235\n",
       "        1                         TV          0.571429\n",
       "        2                         TV          1.000000\n",
       "                                                ...   \n",
       "SPORT   43171                     Desktop     0.000000\n",
       "        43179                     TV          0.000000\n",
       "        53479                     TV          1.000000\n",
       "        53938                     TV          1.000000\n",
       "        81251                     TV          1.000000\n",
       "Name: watched_flag, Length: 17564, dtype: float64"
      ]
     },
     "execution_count": 6,
     "metadata": {},
     "output_type": "execute_result"
    }
   ],
   "source": [
    "# Calculating mean of \"A spy among friend\" (watched_flag column) for each of the group feature\n",
    "viewing_habit=grouped['watched_flag'].mean()\n",
    "viewing_habit"
   ]
  },
  {
   "cell_type": "markdown",
   "id": "f5879ac2",
   "metadata": {},
   "source": [
    "* By grouping the data in this way, you can compare the customer viewing habits based on the different features and see how they are related to each other. \n",
    "* For example, we can see if customers who belong to a certain \"Customer genre\" tend to watch the series more often, or if customers who watch at a certain \"Time of watch\" are more likely to have watched the series.\n",
    "* If the mean of the \"watched_flag\" column for a group of customers who belong to a certain \"Customer genre\", watch on a specific \"Platform of watch\", and at a certain \"Time of watch\" is 0.8, it means that 80% of the customers in that group watched the series \"A spy among friends\"."
   ]
  },
  {
   "cell_type": "code",
   "execution_count": 7,
   "id": "-4jGQS5-Ug4s",
   "metadata": {
    "id": "-4jGQS5-Ug4s"
   },
   "outputs": [],
   "source": [
    "#Calculating the Percentage of viewers watched the A Spy among Friend\n",
    "def customer_viewing_habits(data_strategy):\n",
    "    total_customers = len(data_strategy)\n",
    "    spy_watches = data_strategy[data_strategy['watched_flag'] == 1].shape[0]\n",
    "    spy_watch_percentage = (spy_watches / total_customers) * 100\n",
    "    return spy_watch_percentage"
   ]
  },
  {
   "cell_type": "code",
   "execution_count": 8,
   "id": "U2r1oPmtVATy",
   "metadata": {
    "colab": {
     "base_uri": "https://localhost:8080/"
    },
    "id": "U2r1oPmtVATy",
    "outputId": "31403a13-9f54-4528-c11a-692c6be14843"
   },
   "outputs": [
    {
     "name": "stdout",
     "output_type": "stream",
     "text": [
      "Number of viewers who watched 'A spy among friend' : 78.402 %\n"
     ]
    }
   ],
   "source": [
    "viewers = customer_viewing_habits(data_strategy)\n",
    "print('Number of viewers who watched \\'A spy among friend\\' :',f'{viewers:.3f}','%')"
   ]
  },
  {
   "cell_type": "code",
   "execution_count": 9,
   "id": "c3a42124",
   "metadata": {
    "colab": {
     "base_uri": "https://localhost:8080/",
     "height": 368
    },
    "id": "c3a42124",
    "outputId": "24a572eb-cf62-42da-c54f-148a193859a0"
   },
   "outputs": [
    {
     "data": {
      "image/png": "[encoded data removed]",
      "text/plain": [
       "<Figure size 640x480 with 1 Axes>"
      ]
     },
     "metadata": {},
     "output_type": "display_data"
    }
   ],
   "source": [
    "# Plotting a bar graph to know the Genres of the viewers who watched the series\n",
    "grouped_data = data_strategy.groupby('genre')['watched_flag'].mean()\n",
    "grouped_data.plot(kind='bar')\n",
    "\n",
    "plt.xlabel('Genre')\n",
    "plt.ylabel('Mean of watched the spy series')\n",
    "plt.title('Customer Viewing Habits based on Genre')\n",
    "plt.show()"
   ]
  },
  {
   "cell_type": "markdown",
   "id": "6c04f0c2",
   "metadata": {
    "id": "kqfagLpYxS4w"
   },
   "source": [
    "* Plotting the data by genre can give us an idea of the customer viewing habits in terms of their preferred genre. \n",
    "* The generated bar plot shows the mean age of customers who watched and did not watch the spy series for each genre. \n",
    "* This can help you determine if certain genres have a higher viewership for the spy series, and therefore, you may consider targeting those genres for future promotions or advertising. \n",
    "* From the Bar Graph we can say that people who watch Drama, Factual and others types of Genre are the target customer for the ITV Marketing team.  \n",
    "* Additionally, we can also compare the mean age of customers for each genre, which can give you an idea of the age demographic that is more likely to watch the spy series. \n",
    "* This information can be useful in tailoring your marketing efforts to target the right audience."
   ]
  },
  {
   "cell_type": "markdown",
   "id": "5e77bf03",
   "metadata": {
    "id": "5e77bf03"
   },
   "source": [
    "# Section 3: Task 2-Data Science\n",
    "\n",
    "### Section 3.2 : Who should ITV be promoting the show 'A Spy among the Friends'"
   ]
  },
  {
   "cell_type": "code",
   "execution_count": 10,
   "id": "Wt7h7-uDyKYG",
   "metadata": {
    "colab": {
     "base_uri": "https://localhost:8080/"
    },
    "id": "Wt7h7-uDyKYG",
    "outputId": "c54e093c-8f13-4165-a63e-1f3d8dd26784"
   },
   "outputs": [
    {
     "name": "stdout",
     "output_type": "stream",
     "text": [
      "<class 'pandas.core.frame.DataFrame'>\n",
      "RangeIndex: 1771 entries, 0 to 1770\n",
      "Data columns (total 5 columns):\n",
      " #   Column                             Non-Null Count  Dtype  \n",
      "---  ------                             --------------  -----  \n",
      " 0   age                                1658 non-null   float64\n",
      " 1   top_3_programmes                   1771 non-null   object \n",
      " 2   top_3_genres                       1745 non-null   object \n",
      " 3   top_3_subgenres                    1771 non-null   object \n",
      " 4   any_spy_among_friends_consumption  1771 non-null   bool   \n",
      "dtypes: bool(1), float64(1), object(3)\n",
      "memory usage: 57.2+ KB\n"
     ]
    },
    {
     "data": {
      "text/plain": [
       "(1771, 5)"
      ]
     },
     "execution_count": 10,
     "metadata": {},
     "output_type": "execute_result"
    }
   ],
   "source": [
    "# Load the data into a pandas DataFrame\n",
    "df=pd.read_csv('DIG_step_up_user_data.csv')\n",
    "df=df[['age','top_3_programmes','top_3_genres','top_3_subgenres','any_spy_among_friends_consumption']]\n",
    "df.info()\n",
    "df.shape"
   ]
  },
  {
   "cell_type": "code",
   "execution_count": 11,
   "id": "99cf27a2",
   "metadata": {
    "colab": {
     "base_uri": "https://localhost:8080/"
    },
    "id": "99cf27a2",
    "outputId": "5b17bc3c-94ca-407a-ec2f-2907dcb0a0b8"
   },
   "outputs": [
    {
     "data": {
      "text/plain": [
       "age                                  113\n",
       "top_3_programmes                       0\n",
       "top_3_genres                          26\n",
       "top_3_subgenres                        0\n",
       "any_spy_among_friends_consumption      0\n",
       "dtype: int64"
      ]
     },
     "execution_count": 11,
     "metadata": {},
     "output_type": "execute_result"
    }
   ],
   "source": [
    "#Cleaning the data and redcing noise\n",
    "df.isnull().sum()"
   ]
  },
  {
   "cell_type": "code",
   "execution_count": 12,
   "id": "21565573",
   "metadata": {
    "colab": {
     "base_uri": "https://localhost:8080/",
     "height": 337
    },
    "id": "21565573",
    "outputId": "e69eadbe-49fc-4e73-c182-6e08909e0276"
   },
   "outputs": [
    {
     "data": {
      "text/html": [
       "<div>\n",
       "<style scoped>\n",
       "    .dataframe tbody tr th:only-of-type {\n",
       "        vertical-align: middle;\n",
       "    }\n",
       "\n",
       "    .dataframe tbody tr th {\n",
       "        vertical-align: top;\n",
       "    }\n",
       "\n",
       "    .dataframe thead th {\n",
       "        text-align: right;\n",
       "    }\n",
       "</style>\n",
       "<table border=\"1\" class=\"dataframe\">\n",
       "  <thead>\n",
       "    <tr style=\"text-align: right;\">\n",
       "      <th></th>\n",
       "      <th>age</th>\n",
       "      <th>top_3_programmes</th>\n",
       "      <th>top_3_genres</th>\n",
       "      <th>top_3_subgenres</th>\n",
       "      <th>any_spy_among_friends_consumption</th>\n",
       "    </tr>\n",
       "  </thead>\n",
       "  <tbody>\n",
       "    <tr>\n",
       "      <th>0</th>\n",
       "      <td>30.0</td>\n",
       "      <td>['WORLD CUP', 'CORONATION STREET', 'THE MOTORB...</td>\n",
       "      <td>['DRAMA', 'FACTUAL', 'SPORT']</td>\n",
       "      <td>['LONG RUNNING DRAMA', 'FOOTBALL', 'EVENT']</td>\n",
       "      <td>True</td>\n",
       "    </tr>\n",
       "    <tr>\n",
       "      <th>1</th>\n",
       "      <td>33.0</td>\n",
       "      <td>['WITHOUT SIN', 'EMMERDALE', 'CORONATION STREET']</td>\n",
       "      <td>['DRAMA']</td>\n",
       "      <td>['CRIME AND THRILLER', 'LONG RUNNING DRAMA', '...</td>\n",
       "      <td>True</td>\n",
       "    </tr>\n",
       "    <tr>\n",
       "      <th>2</th>\n",
       "      <td>33.0</td>\n",
       "      <td>['WORLD CUP', \"I'M A CELEBRITY... GET ME OUT O...</td>\n",
       "      <td>['ENTERTAINMENT', 'SPORT', 'DRAMA']</td>\n",
       "      <td>['FOOTBALL', 'EVENT', 'CELEBRITY']</td>\n",
       "      <td>True</td>\n",
       "    </tr>\n",
       "    <tr>\n",
       "      <th>3</th>\n",
       "      <td>36.0</td>\n",
       "      <td>['A SPY AMONG FRIENDS', 'A CONFESSION', 'WITHO...</td>\n",
       "      <td>['DRAMA', 'ENTERTAINMENT', 'OTHER']</td>\n",
       "      <td>['CRIME AND THRILLER', 'BASED ON A TRUE STORY'...</td>\n",
       "      <td>True</td>\n",
       "    </tr>\n",
       "    <tr>\n",
       "      <th>4</th>\n",
       "      <td>32.0</td>\n",
       "      <td>['WORLD CUP', 'FEARLESS', 'THE WALK-IN']</td>\n",
       "      <td>['SPORT', 'ENTERTAINMENT', 'DRAMA']</td>\n",
       "      <td>['FOOTBALL', 'EVENT', 'CRIME AND THRILLER']</td>\n",
       "      <td>True</td>\n",
       "    </tr>\n",
       "  </tbody>\n",
       "</table>\n",
       "</div>"
      ],
      "text/plain": [
       "    age                                   top_3_programmes  \\\n",
       "0  30.0  ['WORLD CUP', 'CORONATION STREET', 'THE MOTORB...   \n",
       "1  33.0  ['WITHOUT SIN', 'EMMERDALE', 'CORONATION STREET']   \n",
       "2  33.0  ['WORLD CUP', \"I'M A CELEBRITY... GET ME OUT O...   \n",
       "3  36.0  ['A SPY AMONG FRIENDS', 'A CONFESSION', 'WITHO...   \n",
       "4  32.0           ['WORLD CUP', 'FEARLESS', 'THE WALK-IN']   \n",
       "\n",
       "                          top_3_genres  \\\n",
       "0        ['DRAMA', 'FACTUAL', 'SPORT']   \n",
       "1                            ['DRAMA']   \n",
       "2  ['ENTERTAINMENT', 'SPORT', 'DRAMA']   \n",
       "3  ['DRAMA', 'ENTERTAINMENT', 'OTHER']   \n",
       "4  ['SPORT', 'ENTERTAINMENT', 'DRAMA']   \n",
       "\n",
       "                                     top_3_subgenres  \\\n",
       "0        ['LONG RUNNING DRAMA', 'FOOTBALL', 'EVENT']   \n",
       "1  ['CRIME AND THRILLER', 'LONG RUNNING DRAMA', '...   \n",
       "2                 ['FOOTBALL', 'EVENT', 'CELEBRITY']   \n",
       "3  ['CRIME AND THRILLER', 'BASED ON A TRUE STORY'...   \n",
       "4        ['FOOTBALL', 'EVENT', 'CRIME AND THRILLER']   \n",
       "\n",
       "   any_spy_among_friends_consumption  \n",
       "0                               True  \n",
       "1                               True  \n",
       "2                               True  \n",
       "3                               True  \n",
       "4                               True  "
      ]
     },
     "execution_count": 12,
     "metadata": {},
     "output_type": "execute_result"
    }
   ],
   "source": [
    "df.dropna(inplace=True)\n",
    "df.shape\n",
    "df.head()"
   ]
  },
  {
   "cell_type": "code",
   "execution_count": 13,
   "id": "676c5188",
   "metadata": {
    "colab": {
     "base_uri": "https://localhost:8080/"
    },
    "id": "676c5188",
    "outputId": "db12298f-19d7-4f7d-93e2-e17c7350a96f"
   },
   "outputs": [
    {
     "data": {
      "text/plain": [
       "127"
      ]
     },
     "execution_count": 13,
     "metadata": {},
     "output_type": "execute_result"
    }
   ],
   "source": [
    "df.duplicated().sum()"
   ]
  },
  {
   "cell_type": "code",
   "execution_count": 14,
   "id": "d91e86db",
   "metadata": {
    "colab": {
     "base_uri": "https://localhost:8080/",
     "height": 337
    },
    "id": "d91e86db",
    "outputId": "3dc3d9cc-7a51-4aa3-a04c-fa5bac8e5f09"
   },
   "outputs": [
    {
     "data": {
      "text/html": [
       "<div>\n",
       "<style scoped>\n",
       "    .dataframe tbody tr th:only-of-type {\n",
       "        vertical-align: middle;\n",
       "    }\n",
       "\n",
       "    .dataframe tbody tr th {\n",
       "        vertical-align: top;\n",
       "    }\n",
       "\n",
       "    .dataframe thead th {\n",
       "        text-align: right;\n",
       "    }\n",
       "</style>\n",
       "<table border=\"1\" class=\"dataframe\">\n",
       "  <thead>\n",
       "    <tr style=\"text-align: right;\">\n",
       "      <th></th>\n",
       "      <th>age</th>\n",
       "      <th>top_3_programmes</th>\n",
       "      <th>top_3_genres</th>\n",
       "      <th>top_3_subgenres</th>\n",
       "      <th>any_spy_among_friends_consumption</th>\n",
       "    </tr>\n",
       "  </thead>\n",
       "  <tbody>\n",
       "    <tr>\n",
       "      <th>0</th>\n",
       "      <td>30.0</td>\n",
       "      <td>['WORLD CUP', 'CORONATION STREET', 'THE MOTORB...</td>\n",
       "      <td>['DRAMA', 'FACTUAL', 'SPORT']</td>\n",
       "      <td>['LONG RUNNING DRAMA', 'FOOTBALL', 'EVENT']</td>\n",
       "      <td>True</td>\n",
       "    </tr>\n",
       "    <tr>\n",
       "      <th>1</th>\n",
       "      <td>33.0</td>\n",
       "      <td>['WITHOUT SIN', 'EMMERDALE', 'CORONATION STREET']</td>\n",
       "      <td>['DRAMA']</td>\n",
       "      <td>['CRIME AND THRILLER', 'LONG RUNNING DRAMA', '...</td>\n",
       "      <td>True</td>\n",
       "    </tr>\n",
       "    <tr>\n",
       "      <th>2</th>\n",
       "      <td>33.0</td>\n",
       "      <td>['WORLD CUP', \"I'M A CELEBRITY... GET ME OUT O...</td>\n",
       "      <td>['ENTERTAINMENT', 'SPORT', 'DRAMA']</td>\n",
       "      <td>['FOOTBALL', 'EVENT', 'CELEBRITY']</td>\n",
       "      <td>True</td>\n",
       "    </tr>\n",
       "    <tr>\n",
       "      <th>3</th>\n",
       "      <td>36.0</td>\n",
       "      <td>['A SPY AMONG FRIENDS', 'A CONFESSION', 'WITHO...</td>\n",
       "      <td>['DRAMA', 'ENTERTAINMENT', 'OTHER']</td>\n",
       "      <td>['CRIME AND THRILLER', 'BASED ON A TRUE STORY'...</td>\n",
       "      <td>True</td>\n",
       "    </tr>\n",
       "    <tr>\n",
       "      <th>4</th>\n",
       "      <td>32.0</td>\n",
       "      <td>['WORLD CUP', 'FEARLESS', 'THE WALK-IN']</td>\n",
       "      <td>['SPORT', 'ENTERTAINMENT', 'DRAMA']</td>\n",
       "      <td>['FOOTBALL', 'EVENT', 'CRIME AND THRILLER']</td>\n",
       "      <td>True</td>\n",
       "    </tr>\n",
       "  </tbody>\n",
       "</table>\n",
       "</div>"
      ],
      "text/plain": [
       "    age                                   top_3_programmes  \\\n",
       "0  30.0  ['WORLD CUP', 'CORONATION STREET', 'THE MOTORB...   \n",
       "1  33.0  ['WITHOUT SIN', 'EMMERDALE', 'CORONATION STREET']   \n",
       "2  33.0  ['WORLD CUP', \"I'M A CELEBRITY... GET ME OUT O...   \n",
       "3  36.0  ['A SPY AMONG FRIENDS', 'A CONFESSION', 'WITHO...   \n",
       "4  32.0           ['WORLD CUP', 'FEARLESS', 'THE WALK-IN']   \n",
       "\n",
       "                          top_3_genres  \\\n",
       "0        ['DRAMA', 'FACTUAL', 'SPORT']   \n",
       "1                            ['DRAMA']   \n",
       "2  ['ENTERTAINMENT', 'SPORT', 'DRAMA']   \n",
       "3  ['DRAMA', 'ENTERTAINMENT', 'OTHER']   \n",
       "4  ['SPORT', 'ENTERTAINMENT', 'DRAMA']   \n",
       "\n",
       "                                     top_3_subgenres  \\\n",
       "0        ['LONG RUNNING DRAMA', 'FOOTBALL', 'EVENT']   \n",
       "1  ['CRIME AND THRILLER', 'LONG RUNNING DRAMA', '...   \n",
       "2                 ['FOOTBALL', 'EVENT', 'CELEBRITY']   \n",
       "3  ['CRIME AND THRILLER', 'BASED ON A TRUE STORY'...   \n",
       "4        ['FOOTBALL', 'EVENT', 'CRIME AND THRILLER']   \n",
       "\n",
       "   any_spy_among_friends_consumption  \n",
       "0                               True  \n",
       "1                               True  \n",
       "2                               True  \n",
       "3                               True  \n",
       "4                               True  "
      ]
     },
     "execution_count": 14,
     "metadata": {},
     "output_type": "execute_result"
    }
   ],
   "source": [
    "df.drop_duplicates(inplace=True)\n",
    "df.head()"
   ]
  },
  {
   "cell_type": "code",
   "execution_count": 15,
   "id": "a233b715",
   "metadata": {
    "colab": {
     "base_uri": "https://localhost:8080/"
    },
    "id": "a233b715",
    "outputId": "77d35856-80a6-4d84-c3f5-e8a6332b2b72"
   },
   "outputs": [
    {
     "name": "stdout",
     "output_type": "stream",
     "text": [
      "Requirement already satisfied: scikit-learn in c:\\users\\shubh\\appdata\\local\\programs\\python\\python310\\lib\\site-packages (1.2.1)\n",
      "Requirement already satisfied: numpy>=1.17.3 in c:\\users\\shubh\\appdata\\local\\programs\\python\\python310\\lib\\site-packages (from scikit-learn) (1.23.3)\n",
      "Requirement already satisfied: scipy>=1.3.2 in c:\\users\\shubh\\appdata\\local\\programs\\python\\python310\\lib\\site-packages (from scikit-learn) (1.10.0)\n",
      "Requirement already satisfied: threadpoolctl>=2.0.0 in c:\\users\\shubh\\appdata\\local\\programs\\python\\python310\\lib\\site-packages (from scikit-learn) (3.1.0)\n",
      "Requirement already satisfied: joblib>=1.1.1 in c:\\users\\shubh\\appdata\\local\\programs\\python\\python310\\lib\\site-packages (from scikit-learn) (1.2.0)\n"
     ]
    }
   ],
   "source": [
    "! pip install -U scikit-learn\n",
    "from sklearn.ensemble import RandomForestClassifier\n",
    "from sklearn.model_selection import train_test_split\n",
    "from sklearn.metrics import accuracy_score\n",
    "from sklearn.metrics import f1_score"
   ]
  },
  {
   "cell_type": "code",
   "execution_count": 16,
   "id": "d769b7b5",
   "metadata": {},
   "outputs": [
    {
     "data": {
      "text/plain": [
       "age                                                                               28.0\n",
       "top_3_programmes                                   ['LOADED IN PARADISE', 'JOHN WICK']\n",
       "top_3_genres                                                      ['FACTUAL', 'OTHER']\n",
       "top_3_subgenres                      ['ENTERTAINMENT', 'ACTION AND ADVENTURE', 'THR...\n",
       "any_spy_among_friends_consumption                                                False\n",
       "Name: 22, dtype: object"
      ]
     },
     "execution_count": 16,
     "metadata": {},
     "output_type": "execute_result"
    }
   ],
   "source": [
    "# Input will use to check our model\n",
    "df.iloc[22]"
   ]
  },
  {
   "cell_type": "markdown",
   "id": "5b786011",
   "metadata": {},
   "source": [
    "### Model 1: Random Forest Classifier with age and top_3_genres as the features"
   ]
  },
  {
   "cell_type": "code",
   "execution_count": 17,
   "id": "086fd821",
   "metadata": {
    "id": "086fd821"
   },
   "outputs": [],
   "source": [
    "# Prepare the features and target\n",
    "X = df[['age', 'top_3_genres']]\n",
    "y = df['any_spy_among_friends_consumption']"
   ]
  },
  {
   "cell_type": "code",
   "execution_count": 18,
   "id": "a548b67f",
   "metadata": {
    "id": "a548b67f"
   },
   "outputs": [],
   "source": [
    "# One-hot encode the categorical features\n",
    "X = pd.get_dummies(X, columns=['top_3_genres'])"
   ]
  },
  {
   "cell_type": "code",
   "execution_count": 19,
   "id": "e1620df0",
   "metadata": {
    "id": "e1620df0"
   },
   "outputs": [],
   "source": [
    "# Split the data into training and test sets\n",
    "X_train, X_test, y_train, y_test = train_test_split(X, y, test_size=0.2, random_state=42)"
   ]
  },
  {
   "cell_type": "code",
   "execution_count": 20,
   "id": "8a9d3332",
   "metadata": {
    "colab": {
     "base_uri": "https://localhost:8080/",
     "height": 74
    },
    "id": "8a9d3332",
    "outputId": "1fbe2325-8623-4c47-abca-2c538c8031c4"
   },
   "outputs": [
    {
     "data": {
      "text/html": [
       "<style>#sk-container-id-1 {color: black;background-color: white;}#sk-container-id-1 pre{padding: 0;}#sk-container-id-1 div.sk-toggleable {background-color: white;}#sk-container-id-1 label.sk-toggleable__label {cursor: pointer;display: block;width: 100%;margin-bottom: 0;padding: 0.3em;box-sizing: border-box;text-align: center;}#sk-container-id-1 label.sk-toggleable__label-arrow:before {content: \"▸\";float: left;margin-right: 0.25em;color: #696969;}#sk-container-id-1 label.sk-toggleable__label-arrow:hover:before {color: black;}#sk-container-id-1 div.sk-estimator:hover label.sk-toggleable__label-arrow:before {color: black;}#sk-container-id-1 div.sk-toggleable__content {max-height: 0;max-width: 0;overflow: hidden;text-align: left;background-color: #f0f8ff;}#sk-container-id-1 div.sk-toggleable__content pre {margin: 0.2em;color: black;border-radius: 0.25em;background-color: #f0f8ff;}#sk-container-id-1 input.sk-toggleable__control:checked~div.sk-toggleable__content {max-height: 200px;max-width: 100%;overflow: auto;}#sk-container-id-1 input.sk-toggleable__control:checked~label.sk-toggleable__label-arrow:before {content: \"▾\";}#sk-container-id-1 div.sk-estimator input.sk-toggleable__control:checked~label.sk-toggleable__label {background-color: #d4ebff;}#sk-container-id-1 div.sk-label input.sk-toggleable__control:checked~label.sk-toggleable__label {background-color: #d4ebff;}#sk-container-id-1 input.sk-hidden--visually {border: 0;clip: rect(1px 1px 1px 1px);clip: rect(1px, 1px, 1px, 1px);height: 1px;margin: -1px;overflow: hidden;padding: 0;position: absolute;width: 1px;}#sk-container-id-1 div.sk-estimator {font-family: monospace;background-color: #f0f8ff;border: 1px dotted black;border-radius: 0.25em;box-sizing: border-box;margin-bottom: 0.5em;}#sk-container-id-1 div.sk-estimator:hover {background-color: #d4ebff;}#sk-container-id-1 div.sk-parallel-item::after {content: \"\";width: 100%;border-bottom: 1px solid gray;flex-grow: 1;}#sk-container-id-1 div.sk-label:hover label.sk-toggleable__label {background-color: #d4ebff;}#sk-container-id-1 div.sk-serial::before {content: \"\";position: absolute;border-left: 1px solid gray;box-sizing: border-box;top: 0;bottom: 0;left: 50%;z-index: 0;}#sk-container-id-1 div.sk-serial {display: flex;flex-direction: column;align-items: center;background-color: white;padding-right: 0.2em;padding-left: 0.2em;position: relative;}#sk-container-id-1 div.sk-item {position: relative;z-index: 1;}#sk-container-id-1 div.sk-parallel {display: flex;align-items: stretch;justify-content: center;background-color: white;position: relative;}#sk-container-id-1 div.sk-item::before, #sk-container-id-1 div.sk-parallel-item::before {content: \"\";position: absolute;border-left: 1px solid gray;box-sizing: border-box;top: 0;bottom: 0;left: 50%;z-index: -1;}#sk-container-id-1 div.sk-parallel-item {display: flex;flex-direction: column;z-index: 1;position: relative;background-color: white;}#sk-container-id-1 div.sk-parallel-item:first-child::after {align-self: flex-end;width: 50%;}#sk-container-id-1 div.sk-parallel-item:last-child::after {align-self: flex-start;width: 50%;}#sk-container-id-1 div.sk-parallel-item:only-child::after {width: 0;}#sk-container-id-1 div.sk-dashed-wrapped {border: 1px dashed gray;margin: 0 0.4em 0.5em 0.4em;box-sizing: border-box;padding-bottom: 0.4em;background-color: white;}#sk-container-id-1 div.sk-label label {font-family: monospace;font-weight: bold;display: inline-block;line-height: 1.2em;}#sk-container-id-1 div.sk-label-container {text-align: center;}#sk-container-id-1 div.sk-container {/* jupyter's `normalize.less` sets `[hidden] { display: none; }` but bootstrap.min.css set `[hidden] { display: none !important; }` so we also need the `!important` here to be able to override the default hidden behavior on the sphinx rendered scikit-learn.org. See: https://github.com/scikit-learn/scikit-learn/issues/21755 */display: inline-block !important;position: relative;}#sk-container-id-1 div.sk-text-repr-fallback {display: none;}</style><div id=\"sk-container-id-1\" class=\"sk-top-container\"><div class=\"sk-text-repr-fallback\"><pre>RandomForestClassifier(random_state=42)</pre><b>In a Jupyter environment, please rerun this cell to show the HTML representation or trust the notebook. <br />On GitHub, the HTML representation is unable to render, please try loading this page with nbviewer.org.</b></div><div class=\"sk-container\" hidden><div class=\"sk-item\"><div class=\"sk-estimator sk-toggleable\"><input class=\"sk-toggleable__control sk-hidden--visually\" id=\"sk-estimator-id-1\" type=\"checkbox\" checked><label for=\"sk-estimator-id-1\" class=\"sk-toggleable__label sk-toggleable__label-arrow\">RandomForestClassifier</label><div class=\"sk-toggleable__content\"><pre>RandomForestClassifier(random_state=42)</pre></div></div></div></div></div>"
      ],
      "text/plain": [
       "RandomForestClassifier(random_state=42)"
      ]
     },
     "execution_count": 20,
     "metadata": {},
     "output_type": "execute_result"
    }
   ],
   "source": [
    "# Train the logistic regression model\n",
    "model1 = RandomForestClassifier(n_estimators=100, random_state=42)\n",
    "model1.fit(X_train, y_train)"
   ]
  },
  {
   "cell_type": "code",
   "execution_count": 21,
   "id": "dbf19e3f",
   "metadata": {
    "id": "dbf19e3f"
   },
   "outputs": [],
   "source": [
    "# Predict on the test set\n",
    "y_pred = model1.predict(X_test)"
   ]
  },
  {
   "cell_type": "code",
   "execution_count": 22,
   "id": "55fbd8f0",
   "metadata": {
    "colab": {
     "base_uri": "https://localhost:8080/"
    },
    "id": "55fbd8f0",
    "outputId": "7a2efd44-b8ac-49f4-9ea4-881cc5d58d0e"
   },
   "outputs": [
    {
     "name": "stdout",
     "output_type": "stream",
     "text": [
      "Accuracy of Random Forest Classifier is: 0.7142857142857143\n"
     ]
    }
   ],
   "source": [
    "# Evaluate the accuracy\n",
    "accuracy = accuracy_score(y_test, y_pred)\n",
    "print(\"Accuracy of Random Forest Classifier is:\", accuracy)"
   ]
  },
  {
   "cell_type": "code",
   "execution_count": 23,
   "id": "a3e46032",
   "metadata": {},
   "outputs": [
    {
     "data": {
      "text/plain": [
       "0.7440476190476191"
      ]
     },
     "execution_count": 23,
     "metadata": {},
     "output_type": "execute_result"
    }
   ],
   "source": [
    "#Evaluating f1 Score\n",
    "f1=f1_score(y_test,y_pred)\n",
    "f1"
   ]
  },
  {
   "cell_type": "code",
   "execution_count": 24,
   "id": "a8cda5c9",
   "metadata": {
    "colab": {
     "base_uri": "https://localhost:8080/"
    },
    "id": "a8cda5c9",
    "outputId": "4c445c39-dd04-4c79-b1b4-1d9432460f6b"
   },
   "outputs": [
    {
     "name": "stdout",
     "output_type": "stream",
     "text": [
      "Random Classifier Model prediction: False\n"
     ]
    }
   ],
   "source": [
    "#Checking the model\n",
    "X_predict1=X\n",
    "y_pred1=model1.predict(X_predict1)[22]\n",
    "print(\"Random Classifier Model prediction:\", y_pred1)"
   ]
  },
  {
   "cell_type": "markdown",
   "id": "zkNrp0isMc_V",
   "metadata": {
    "id": "zkNrp0isMc_V"
   },
   "source": [
    "### Model 2: Decision Tree with top_3_subgenres and top_3_programmes as the features"
   ]
  },
  {
   "cell_type": "code",
   "execution_count": 25,
   "id": "28cc8798",
   "metadata": {
    "id": "28cc8798"
   },
   "outputs": [],
   "source": [
    "from sklearn.tree import DecisionTreeClassifier\n",
    "from sklearn.model_selection import train_test_split"
   ]
  },
  {
   "cell_type": "code",
   "execution_count": 26,
   "id": "vxmX46eyMjqN",
   "metadata": {
    "id": "vxmX46eyMjqN"
   },
   "outputs": [],
   "source": [
    "# Prepare the features and target\n",
    "X2 = df[['top_3_genres', 'top_3_programmes']]\n",
    "y2 = df['any_spy_among_friends_consumption']"
   ]
  },
  {
   "cell_type": "code",
   "execution_count": 27,
   "id": "5iGwKuJROBS1",
   "metadata": {
    "id": "5iGwKuJROBS1"
   },
   "outputs": [],
   "source": [
    "# One-hot encode the categorical features\n",
    "X2 = pd.get_dummies(X2)"
   ]
  },
  {
   "cell_type": "code",
   "execution_count": 28,
   "id": "1TUo3F9YMpDN",
   "metadata": {
    "id": "1TUo3F9YMpDN"
   },
   "outputs": [],
   "source": [
    "# Split the data into training and test sets\n",
    "X2_train, X2_test, y2_train, y2_test = train_test_split(X2, y2, test_size=0.2, random_state=42)"
   ]
  },
  {
   "cell_type": "code",
   "execution_count": 29,
   "id": "OvRA05tkNFq8",
   "metadata": {
    "colab": {
     "base_uri": "https://localhost:8080/",
     "height": 74
    },
    "id": "OvRA05tkNFq8",
    "outputId": "1b1ef9db-8912-4f75-fbe7-ebdcc21e5b2b"
   },
   "outputs": [
    {
     "data": {
      "text/html": [
       "<style>#sk-container-id-2 {color: black;background-color: white;}#sk-container-id-2 pre{padding: 0;}#sk-container-id-2 div.sk-toggleable {background-color: white;}#sk-container-id-2 label.sk-toggleable__label {cursor: pointer;display: block;width: 100%;margin-bottom: 0;padding: 0.3em;box-sizing: border-box;text-align: center;}#sk-container-id-2 label.sk-toggleable__label-arrow:before {content: \"▸\";float: left;margin-right: 0.25em;color: #696969;}#sk-container-id-2 label.sk-toggleable__label-arrow:hover:before {color: black;}#sk-container-id-2 div.sk-estimator:hover label.sk-toggleable__label-arrow:before {color: black;}#sk-container-id-2 div.sk-toggleable__content {max-height: 0;max-width: 0;overflow: hidden;text-align: left;background-color: #f0f8ff;}#sk-container-id-2 div.sk-toggleable__content pre {margin: 0.2em;color: black;border-radius: 0.25em;background-color: #f0f8ff;}#sk-container-id-2 input.sk-toggleable__control:checked~div.sk-toggleable__content {max-height: 200px;max-width: 100%;overflow: auto;}#sk-container-id-2 input.sk-toggleable__control:checked~label.sk-toggleable__label-arrow:before {content: \"▾\";}#sk-container-id-2 div.sk-estimator input.sk-toggleable__control:checked~label.sk-toggleable__label {background-color: #d4ebff;}#sk-container-id-2 div.sk-label input.sk-toggleable__control:checked~label.sk-toggleable__label {background-color: #d4ebff;}#sk-container-id-2 input.sk-hidden--visually {border: 0;clip: rect(1px 1px 1px 1px);clip: rect(1px, 1px, 1px, 1px);height: 1px;margin: -1px;overflow: hidden;padding: 0;position: absolute;width: 1px;}#sk-container-id-2 div.sk-estimator {font-family: monospace;background-color: #f0f8ff;border: 1px dotted black;border-radius: 0.25em;box-sizing: border-box;margin-bottom: 0.5em;}#sk-container-id-2 div.sk-estimator:hover {background-color: #d4ebff;}#sk-container-id-2 div.sk-parallel-item::after {content: \"\";width: 100%;border-bottom: 1px solid gray;flex-grow: 1;}#sk-container-id-2 div.sk-label:hover label.sk-toggleable__label {background-color: #d4ebff;}#sk-container-id-2 div.sk-serial::before {content: \"\";position: absolute;border-left: 1px solid gray;box-sizing: border-box;top: 0;bottom: 0;left: 50%;z-index: 0;}#sk-container-id-2 div.sk-serial {display: flex;flex-direction: column;align-items: center;background-color: white;padding-right: 0.2em;padding-left: 0.2em;position: relative;}#sk-container-id-2 div.sk-item {position: relative;z-index: 1;}#sk-container-id-2 div.sk-parallel {display: flex;align-items: stretch;justify-content: center;background-color: white;position: relative;}#sk-container-id-2 div.sk-item::before, #sk-container-id-2 div.sk-parallel-item::before {content: \"\";position: absolute;border-left: 1px solid gray;box-sizing: border-box;top: 0;bottom: 0;left: 50%;z-index: -1;}#sk-container-id-2 div.sk-parallel-item {display: flex;flex-direction: column;z-index: 1;position: relative;background-color: white;}#sk-container-id-2 div.sk-parallel-item:first-child::after {align-self: flex-end;width: 50%;}#sk-container-id-2 div.sk-parallel-item:last-child::after {align-self: flex-start;width: 50%;}#sk-container-id-2 div.sk-parallel-item:only-child::after {width: 0;}#sk-container-id-2 div.sk-dashed-wrapped {border: 1px dashed gray;margin: 0 0.4em 0.5em 0.4em;box-sizing: border-box;padding-bottom: 0.4em;background-color: white;}#sk-container-id-2 div.sk-label label {font-family: monospace;font-weight: bold;display: inline-block;line-height: 1.2em;}#sk-container-id-2 div.sk-label-container {text-align: center;}#sk-container-id-2 div.sk-container {/* jupyter's `normalize.less` sets `[hidden] { display: none; }` but bootstrap.min.css set `[hidden] { display: none !important; }` so we also need the `!important` here to be able to override the default hidden behavior on the sphinx rendered scikit-learn.org. See: https://github.com/scikit-learn/scikit-learn/issues/21755 */display: inline-block !important;position: relative;}#sk-container-id-2 div.sk-text-repr-fallback {display: none;}</style><div id=\"sk-container-id-2\" class=\"sk-top-container\"><div class=\"sk-text-repr-fallback\"><pre>DecisionTreeClassifier()</pre><b>In a Jupyter environment, please rerun this cell to show the HTML representation or trust the notebook. <br />On GitHub, the HTML representation is unable to render, please try loading this page with nbviewer.org.</b></div><div class=\"sk-container\" hidden><div class=\"sk-item\"><div class=\"sk-estimator sk-toggleable\"><input class=\"sk-toggleable__control sk-hidden--visually\" id=\"sk-estimator-id-2\" type=\"checkbox\" checked><label for=\"sk-estimator-id-2\" class=\"sk-toggleable__label sk-toggleable__label-arrow\">DecisionTreeClassifier</label><div class=\"sk-toggleable__content\"><pre>DecisionTreeClassifier()</pre></div></div></div></div></div>"
      ],
      "text/plain": [
       "DecisionTreeClassifier()"
      ]
     },
     "execution_count": 29,
     "metadata": {},
     "output_type": "execute_result"
    }
   ],
   "source": [
    "# Train the logistic regression model\n",
    "model2 = DecisionTreeClassifier()\n",
    "model2.fit(X2_train, y2_train)"
   ]
  },
  {
   "cell_type": "code",
   "execution_count": 30,
   "id": "IY4CTgzbNKad",
   "metadata": {
    "id": "IY4CTgzbNKad"
   },
   "outputs": [],
   "source": [
    "# Predict on the test set\n",
    "y2_pred = model2.predict(X2_test)"
   ]
  },
  {
   "cell_type": "code",
   "execution_count": 31,
   "id": "Bv83yeV0OvDY",
   "metadata": {
    "colab": {
     "base_uri": "https://localhost:8080/"
    },
    "id": "Bv83yeV0OvDY",
    "outputId": "2d5eb19b-0f1a-47b0-d235-c674ac3b523d"
   },
   "outputs": [
    {
     "name": "stdout",
     "output_type": "stream",
     "text": [
      "Accuracy: 0.770764119601329\n"
     ]
    }
   ],
   "source": [
    "# Evaluate the accuracy\n",
    "accuracy = accuracy_score(y2_test, y2_pred)\n",
    "print(\"Accuracy:\", accuracy)"
   ]
  },
  {
   "cell_type": "code",
   "execution_count": 32,
   "id": "7ebb5f4b",
   "metadata": {},
   "outputs": [
    {
     "data": {
      "text/plain": [
       "0.8109589041095889"
      ]
     },
     "execution_count": 32,
     "metadata": {},
     "output_type": "execute_result"
    }
   ],
   "source": [
    "#Evaluating f1 Score\n",
    "f1=f1_score(y2_test,y2_pred)\n",
    "f1"
   ]
  },
  {
   "cell_type": "code",
   "execution_count": 33,
   "id": "JuLXoe-IOiiR",
   "metadata": {
    "colab": {
     "base_uri": "https://localhost:8080/"
    },
    "id": "JuLXoe-IOiiR",
    "outputId": "f84305e1-c8c5-468f-9073-f2c915342783"
   },
   "outputs": [
    {
     "name": "stdout",
     "output_type": "stream",
     "text": [
      "Decision Tree Model prediction is: False\n"
     ]
    }
   ],
   "source": [
    "# Checking the Model\n",
    "X2_predict=X2\n",
    "y2_pred=model2.predict(X2_predict)[22]\n",
    "print(\"Decision Tree Model prediction is:\", y2_pred)"
   ]
  },
  {
   "cell_type": "markdown",
   "id": "o42_m8jrPVWQ",
   "metadata": {
    "id": "o42_m8jrPVWQ"
   },
   "source": [
    "### Model 3: Logistic Regression with age,top_3_genres,top_3_subgenres and top_3_programmes as the features"
   ]
  },
  {
   "cell_type": "code",
   "execution_count": 34,
   "id": "NKA2cZ3GPMb5",
   "metadata": {
    "id": "NKA2cZ3GPMb5"
   },
   "outputs": [],
   "source": [
    "from sklearn.linear_model import LogisticRegression"
   ]
  },
  {
   "cell_type": "code",
   "execution_count": 35,
   "id": "94Wei-gBPUXz",
   "metadata": {
    "id": "94Wei-gBPUXz"
   },
   "outputs": [],
   "source": [
    "# Prepare the features and target\n",
    "X3 = df[['age', 'top_3_genres', 'top_3_subgenres', 'top_3_programmes']]\n",
    "y3 = df['any_spy_among_friends_consumption']"
   ]
  },
  {
   "cell_type": "code",
   "execution_count": 36,
   "id": "gsMJU_1sPl2i",
   "metadata": {
    "id": "gsMJU_1sPl2i"
   },
   "outputs": [],
   "source": [
    "# One-hot encode the categorical features\n",
    "X3 = pd.get_dummies(X3)"
   ]
  },
  {
   "cell_type": "code",
   "execution_count": 37,
   "id": "nxQu0Mu5PtkC",
   "metadata": {
    "id": "nxQu0Mu5PtkC"
   },
   "outputs": [],
   "source": [
    "# Split the data into training and test sets\n",
    "X3_train, X3_test, y3_train, y3_test = train_test_split(X3, y3, test_size=0.2, random_state=0)"
   ]
  },
  {
   "cell_type": "code",
   "execution_count": 38,
   "id": "Z2FlffW2PvUK",
   "metadata": {
    "colab": {
     "base_uri": "https://localhost:8080/",
     "height": 220
    },
    "id": "Z2FlffW2PvUK",
    "outputId": "f2f526a7-507f-413b-f2ac-624eb0592231"
   },
   "outputs": [
    {
     "data": {
      "text/html": [
       "<style>#sk-container-id-3 {color: black;background-color: white;}#sk-container-id-3 pre{padding: 0;}#sk-container-id-3 div.sk-toggleable {background-color: white;}#sk-container-id-3 label.sk-toggleable__label {cursor: pointer;display: block;width: 100%;margin-bottom: 0;padding: 0.3em;box-sizing: border-box;text-align: center;}#sk-container-id-3 label.sk-toggleable__label-arrow:before {content: \"▸\";float: left;margin-right: 0.25em;color: #696969;}#sk-container-id-3 label.sk-toggleable__label-arrow:hover:before {color: black;}#sk-container-id-3 div.sk-estimator:hover label.sk-toggleable__label-arrow:before {color: black;}#sk-container-id-3 div.sk-toggleable__content {max-height: 0;max-width: 0;overflow: hidden;text-align: left;background-color: #f0f8ff;}#sk-container-id-3 div.sk-toggleable__content pre {margin: 0.2em;color: black;border-radius: 0.25em;background-color: #f0f8ff;}#sk-container-id-3 input.sk-toggleable__control:checked~div.sk-toggleable__content {max-height: 200px;max-width: 100%;overflow: auto;}#sk-container-id-3 input.sk-toggleable__control:checked~label.sk-toggleable__label-arrow:before {content: \"▾\";}#sk-container-id-3 div.sk-estimator input.sk-toggleable__control:checked~label.sk-toggleable__label {background-color: #d4ebff;}#sk-container-id-3 div.sk-label input.sk-toggleable__control:checked~label.sk-toggleable__label {background-color: #d4ebff;}#sk-container-id-3 input.sk-hidden--visually {border: 0;clip: rect(1px 1px 1px 1px);clip: rect(1px, 1px, 1px, 1px);height: 1px;margin: -1px;overflow: hidden;padding: 0;position: absolute;width: 1px;}#sk-container-id-3 div.sk-estimator {font-family: monospace;background-color: #f0f8ff;border: 1px dotted black;border-radius: 0.25em;box-sizing: border-box;margin-bottom: 0.5em;}#sk-container-id-3 div.sk-estimator:hover {background-color: #d4ebff;}#sk-container-id-3 div.sk-parallel-item::after {content: \"\";width: 100%;border-bottom: 1px solid gray;flex-grow: 1;}#sk-container-id-3 div.sk-label:hover label.sk-toggleable__label {background-color: #d4ebff;}#sk-container-id-3 div.sk-serial::before {content: \"\";position: absolute;border-left: 1px solid gray;box-sizing: border-box;top: 0;bottom: 0;left: 50%;z-index: 0;}#sk-container-id-3 div.sk-serial {display: flex;flex-direction: column;align-items: center;background-color: white;padding-right: 0.2em;padding-left: 0.2em;position: relative;}#sk-container-id-3 div.sk-item {position: relative;z-index: 1;}#sk-container-id-3 div.sk-parallel {display: flex;align-items: stretch;justify-content: center;background-color: white;position: relative;}#sk-container-id-3 div.sk-item::before, #sk-container-id-3 div.sk-parallel-item::before {content: \"\";position: absolute;border-left: 1px solid gray;box-sizing: border-box;top: 0;bottom: 0;left: 50%;z-index: -1;}#sk-container-id-3 div.sk-parallel-item {display: flex;flex-direction: column;z-index: 1;position: relative;background-color: white;}#sk-container-id-3 div.sk-parallel-item:first-child::after {align-self: flex-end;width: 50%;}#sk-container-id-3 div.sk-parallel-item:last-child::after {align-self: flex-start;width: 50%;}#sk-container-id-3 div.sk-parallel-item:only-child::after {width: 0;}#sk-container-id-3 div.sk-dashed-wrapped {border: 1px dashed gray;margin: 0 0.4em 0.5em 0.4em;box-sizing: border-box;padding-bottom: 0.4em;background-color: white;}#sk-container-id-3 div.sk-label label {font-family: monospace;font-weight: bold;display: inline-block;line-height: 1.2em;}#sk-container-id-3 div.sk-label-container {text-align: center;}#sk-container-id-3 div.sk-container {/* jupyter's `normalize.less` sets `[hidden] { display: none; }` but bootstrap.min.css set `[hidden] { display: none !important; }` so we also need the `!important` here to be able to override the default hidden behavior on the sphinx rendered scikit-learn.org. See: https://github.com/scikit-learn/scikit-learn/issues/21755 */display: inline-block !important;position: relative;}#sk-container-id-3 div.sk-text-repr-fallback {display: none;}</style><div id=\"sk-container-id-3\" class=\"sk-top-container\"><div class=\"sk-text-repr-fallback\"><pre>LogisticRegression()</pre><b>In a Jupyter environment, please rerun this cell to show the HTML representation or trust the notebook. <br />On GitHub, the HTML representation is unable to render, please try loading this page with nbviewer.org.</b></div><div class=\"sk-container\" hidden><div class=\"sk-item\"><div class=\"sk-estimator sk-toggleable\"><input class=\"sk-toggleable__control sk-hidden--visually\" id=\"sk-estimator-id-3\" type=\"checkbox\" checked><label for=\"sk-estimator-id-3\" class=\"sk-toggleable__label sk-toggleable__label-arrow\">LogisticRegression</label><div class=\"sk-toggleable__content\"><pre>LogisticRegression()</pre></div></div></div></div></div>"
      ],
      "text/plain": [
       "LogisticRegression()"
      ]
     },
     "execution_count": 38,
     "metadata": {},
     "output_type": "execute_result"
    }
   ],
   "source": [
    "# Train the logistic regression model\n",
    "model3 = LogisticRegression()\n",
    "model3.fit(X3_train, y3_train)"
   ]
  },
  {
   "cell_type": "code",
   "execution_count": 39,
   "id": "KlcVjAYEPy7b",
   "metadata": {
    "id": "KlcVjAYEPy7b"
   },
   "outputs": [],
   "source": [
    "# Predict on the test set\n",
    "y3_pred = model3.predict(X3_test)"
   ]
  },
  {
   "cell_type": "code",
   "execution_count": 40,
   "id": "qghEk4JyP1x3",
   "metadata": {
    "colab": {
     "base_uri": "https://localhost:8080/"
    },
    "id": "qghEk4JyP1x3",
    "outputId": "2724422d-a4b9-4575-9a91-39ada8c3884a"
   },
   "outputs": [
    {
     "name": "stdout",
     "output_type": "stream",
     "text": [
      "Accuracy for Logistic Regression Model is:  0.7840531561461794\n"
     ]
    }
   ],
   "source": [
    "# Evaluate the accuracy\n",
    "accuracy = accuracy_score(y3_test, y3_pred)\n",
    "print('Accuracy for Logistic Regression Model is: ', accuracy)"
   ]
  },
  {
   "cell_type": "code",
   "execution_count": 41,
   "id": "99e131f6",
   "metadata": {},
   "outputs": [
    {
     "data": {
      "text/plain": [
       "0.8158640226628896"
      ]
     },
     "execution_count": 41,
     "metadata": {},
     "output_type": "execute_result"
    }
   ],
   "source": [
    "#Evaluating f1 Score\n",
    "f1=f1_score(y3_test,y3_pred)\n",
    "f1"
   ]
  },
  {
   "cell_type": "code",
   "execution_count": 42,
   "id": "4LW18n63P52Y",
   "metadata": {
    "colab": {
     "base_uri": "https://localhost:8080/"
    },
    "id": "4LW18n63P52Y",
    "outputId": "7ff0b5f8-4660-4396-ef00-2dc0e819bab5"
   },
   "outputs": [
    {
     "name": "stdout",
     "output_type": "stream",
     "text": [
      "Logistic Regression Model prediction: False\n"
     ]
    }
   ],
   "source": [
    "# Checking the Model\n",
    "X3_predict=X3\n",
    "y3_pred=model3.predict(X3_predict)[22]\n",
    "print(\"Logistic Regression Model prediction:\", y3_pred)"
   ]
  },
  {
   "cell_type": "markdown",
   "id": "318a2f82",
   "metadata": {},
   "source": [
    "**1) Out of the three models, which one performed the best and why?**\n",
    "* Answer\n",
    "\n",
    "- To determine which model performed the best, we would need to compare the performance metrics, that is accuracy and F1 Score of each of the models on the same test data. \n",
    "- The model with the highest performance metrics would be considered the best performer and after comparing its clear that Decison Tree (Model 2) and Linear Regression(Model 3) with accuracy of 77.4% and 78.4, F1 as 81.31% and 81.56% respectively are he best.\n",
    "- Have checked multiple input for Model 1 where it reverted incorrect output in many cases whereas Model 2 and 3 prediction were correct in most of the time.\n"
   ]
  },
  {
   "cell_type": "markdown",
   "id": "b3edc30b",
   "metadata": {},
   "source": [
    "**2) Which features played the most significant role in determining the outcome?**\n",
    "* Answer\n",
    "\n",
    "- Based on the results from Model 2 and Model 3 that take features top_3_genres and top_3_programs seem to play the most significant role in determining the outcome as they are included in both model 2 and 3, which had the highest accuracy and F1 scores."
   ]
  },
  {
   "cell_type": "markdown",
   "id": "f50fc662",
   "metadata": {},
   "source": [
    "**3. Are there any additional data points that could be collected to enhance the model's performance?**\n",
    "* Answer\n",
    "\n",
    "- To enhance the model's performance, additional data points that could be collected include: \n",
    "1) Customer interaction: Information on how the viewer is interacting with the series such as sharing with friends can provide valuable insights into the customer engagemnet and interest in the series. \n",
    "2) Customer Demographic Information: This could include information such as income, education level, and location. This information can provide insights into customer preferences and habits, which could help improve the accuracy of the model.\n",
    "3) Customer ratings and feedback on the series: Collecting customer rating and feedback will help to model what aspect of models are appeling and which are not appeling to the viewing and give suggestion accordingly.\n",
    "4) Device Information : Information onthe type of device the customer uses to watch the series such as Laptop, Televison, Laptop can give insights of the viewing habits of the customers.\n",
    "5) Activity of Social Media: Data collected from the Social Media activity such as posts and mentioend realted to the series help the model to understand the level and engagemnet and intrets level of the viewer."
   ]
  },
  {
   "cell_type": "markdown",
   "id": "bdc50f34",
   "metadata": {},
   "source": [
    "**4. Can you explain, in your own words, how each of these models work and their underlying mechanisms? Remember to do some research first to deepen your understanding.**\n",
    "\n",
    "- Answer\n",
    "\n",
    "- _Random Forest_:\n",
    "\n",
    "A Random Forest is an ensemble machine learning model that combines the predictions of multiple decision trees. The model generates multiple decision trees, each trained on a random subset of the data, and the final prediction is made by combining the predictions of all the trees. The trees are uncorrelated with each other, so their predictions are less likely to be influenced by outliers or noise in the data. This results in a more robust and accurate prediction compared to a single decision tree.\n",
    "\n",
    "For example, in Model 1 where the features were age and top 3 genres, the random forest algorithm would use these features to generate multiple decision trees. Each tree would make a prediction based on the customer's age and the genres they prefer to watch. The final prediction of whether or not the customer would watch the series \"A Spy Among Friends\" would be the average prediction of all the trees.\n",
    "\n",
    "- _Decision Tree_:\n",
    "\n",
    "A Decision Tree is a tree-like model that starts with a single node (root) and splits the data into smaller subsets (leaves) based on the feature that best separates the target class. The idea is to split the data in a way that minimizes the impurity of the classes in each subset. The process continues recursively until a stopping criterion is met. The final prediction is made by following the path from the root to the leaf that represents the sample.\n",
    "\n",
    "For example, in Model 2 where the features were top 3 genres and top 3 programs, the decision tree algorithm would start with a root node that would split the data based on the top 3 genres. For example, if a customer liked Action and Adventure genres, the algorithm would follow the path to the next node that represents these genres. The process would continue until a final prediction of whether or not the customer would watch the series \"A Spy Among Friends\" is made.\n",
    "\n",
    "- _Logistic Regression_:\n",
    "\n",
    "Logistic Regression is a linear model that is used to predict a binary outcome (e.g., yes/no, true/false) based on a set of predictor variables. The algorithm estimates the probability of the target class (e.g., watching the series) given the predictor variables and maps the probability to a binary prediction. The idea is to find the line that best separates the target class based on the predictor variables.\n",
    "\n",
    "For example, in Model 3 where the features were age, top 3 genres, top 3 sub-genres, and top 3 programs, the logistic regression algorithm would estimate the probability of the customer watching the series \"A Spy Among Friends\" based on their age, preferred genres, sub-genres, and programs. The algorithm would then map the probability to a binary prediction of either watching or not watching the series.\n",
    "\n",
    "- In conclusion, these three models have different underlying mechanisms, but they all aim to make predictions based on the customer's data. The Random Forest combines the predictions of multiple decision trees to make a more robust prediction, the Decision Tree splits the data based on the feature that best separates the target class, and Logistic Regression estimates the probability of the target class based on a set of predictor variables."
   ]
  }
 ],
 "metadata": {
  "colab": {
   "provenance": []
  },
  "kernelspec": {
   "display_name": "Python 3 (ipykernel)",
   "language": "python",
   "name": "python3"
  },
  "language_info": {
   "codemirror_mode": {
    "name": "ipython",
    "version": 3
   },
   "file_extension": ".py",
   "mimetype": "text/x-python",
   "name": "python",
   "nbconvert_exporter": "python",
   "pygments_lexer": "ipython3",
   "version": "3.10.7"
  }
 },
 "nbformat": 4,
 "nbformat_minor": 5
}
